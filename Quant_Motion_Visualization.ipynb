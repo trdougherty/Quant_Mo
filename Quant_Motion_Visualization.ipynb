{
 "cells": [
  {
   "cell_type": "code",
   "execution_count": null,
   "metadata": {},
   "outputs": [],
   "source": [
    "# from __future__ import print_function\n",
    "import time\n",
    "import cv2\n",
    "from OpticalFlowShowcase import *\n",
    "import numpy as np\n",
    "import argparse\n",
    "import io\n",
    "import sys\n",
    "import datetime\n",
    "from matplotlib import pyplot as plt\n",
    "from mpl_toolkits import mplot3d\n",
    "from memory_profiler import profile\n",
    "from uncertainties import unumpy\n",
    "import uncertainties as u\n",
    "import ucert\n",
    "import plotly.plotly as py\n",
    "from plotly.graph_objs import *"
   ]
  },
  {
   "cell_type": "code",
   "execution_count": 52,
   "metadata": {},
   "outputs": [],
   "source": [
    "plotly.tools.set_credentials_file(username='thomasdough', api_key='Oa07LmmxJnUhoPUJMIup')"
   ]
  },
  {
   "cell_type": "code",
   "execution_count": 5,
   "metadata": {},
   "outputs": [],
   "source": [
    "def process(file):\n",
    "    numObj = np.load(file)\n",
    "    [date, arr] = numObj\n",
    "    return [date, arr]"
   ]
  },
  {
   "cell_type": "code",
   "execution_count": 6,
   "metadata": {},
   "outputs": [],
   "source": [
    "# Not really needed for this\n",
    "def localize(point, x, y, mv = 0.08):\n",
    "    Z = 1/np.power(np.power(point[0]-x,2)+np.power(point[1]-y,2),0.5)\n",
    "    Z[ Z > mv ] = mv\n",
    "    return Z*(1/mv)"
   ]
  },
  {
   "cell_type": "code",
   "execution_count": 7,
   "metadata": {},
   "outputs": [],
   "source": [
    "def gradient(array): return np.gradient(array) #np.add.reduce(np.gradient(array))"
   ]
  },
  {
   "cell_type": "code",
   "execution_count": 13,
   "metadata": {},
   "outputs": [],
   "source": [
    "def importMatrix(file):\n",
    "    num_cols = 2\n",
    "    converters = dict.fromkeys(\n",
    "        range(num_cols),\n",
    "        lambda col_bytes: u.ufloat_fromstr(col_bytes.decode(\"latin1\")))\n",
    "    arr = np.loadtxt(file, converters=converters, dtype=object)\n",
    "    return arr.reshape((64,64,2))"
   ]
  },
  {
   "cell_type": "code",
   "execution_count": 63,
   "metadata": {},
   "outputs": [],
   "source": [
    "def printArr(arr, axis):\n",
    "    # Allows us to work with the shape off the photo we're looking at\n",
    "    x_dist = np.arange(0,arr.shape[0])\n",
    "    y_dist = np.arange(0,arr.shape[1])\n",
    "\n",
    "    x, y = np.meshgrid(x_dist, y_dist)\n",
    "    z = arr\n",
    "\n",
    "    # min_ = -1; max_ = 1 # This is the default value\n",
    "    # if (Z.min() < -1): min_ = Z.min()\n",
    "    # if (Z.max() > 1): max_ = Z.max()\n",
    "\n",
    "    # fig = plt.figure()\n",
    "    # ax = plt.axes(projection='3d')\n",
    "    # ax.contour3D(xx, yy, Z, arr.shape[0], cmap='binary')\n",
    "    # ax.set_title('{} Axis'.format(axis))\n",
    "    # ax.set_xlabel('x')\n",
    "    # ax.set_ylabel('y')\n",
    "    # ax.set_zlabel('z')\n",
    "    # ax.set_zlim(min_,max_)\n",
    "    # plt.show()\n",
    "    colorscale=[[0.0, 'rgb(20,29,67)'],\n",
    "        [0.1, 'rgb(28,76,96)'],\n",
    "        [0.2, 'rgb(16,125,121)'],\n",
    "        [0.3, 'rgb(92,166,133)'],\n",
    "        [0.4, 'rgb(182,202,175)'],\n",
    "        [0.5, 'rgb(253,245,243)'],\n",
    "        [0.6, 'rgb(230,183,162)'],\n",
    "        [0.7, 'rgb(211,118,105)'],\n",
    "        [0.8, 'rgb(174,63,95)'],\n",
    "        [0.9, 'rgb(116,25,93)'],\n",
    "        [1.0, 'rgb(51,13,53)']]\n",
    "\n",
    "    textz=[['x: '+'{:0.5f}'.format(x[i][j])+'<br>y: '+'{:0.5f}'.format(y[i][j])+\n",
    "        '<br>z: '+'{:0.5f}'.format(z[i][j]) for j in range(z.shape[1])] for i in range(z.shape[0])]\n",
    "\n",
    "    trace1= go.Surface(z=z,\n",
    "                x=x,\n",
    "                y=y,\n",
    "                colorscale=colorscale,\n",
    "                text=textz,\n",
    "                hoverinfo='text',\n",
    "                )\n",
    "    \n",
    "    axis = dict(\n",
    "    showbackground=True,\n",
    "    backgroundcolor=\"rgb(230, 230,230)\",\n",
    "    showgrid=False,\n",
    "    zeroline=False,\n",
    "    showline=False)\n",
    "\n",
    "    ztickvals=list(range(64))\n",
    "    layout = go.Layout(title=\"Projections of a surface onto coordinate planes\" ,\n",
    "                    autosize=False,\n",
    "                    width=700,\n",
    "                    height=600,\n",
    "                    scene=dict(xaxis=dict(axis, range=[0, 64]),\n",
    "                                yaxis=dict(axis, range=[0, 64]),\n",
    "                                zaxis=dict(axis , tickvals=ztickvals),\n",
    "                                aspectratio=dict(x=1,\n",
    "                                                y=1,\n",
    "                                                z=0.95)\n",
    "                            )\n",
    "                    )\n",
    "    \n",
    "    z_offset=(np.min(z)-2)*np.ones(z.shape)#\n",
    "    x_offset=np.min(x_dist)*np.ones(z.shape)\n",
    "    y_offset=np.min(y_dist)*np.ones(z.shape)\n",
    "\n",
    "    proj_z=lambda x, y, z: z#projection in the z-direction\n",
    "    colorsurfz=proj_z(x,y,z)\n",
    "    proj_x=lambda x, y, z: x\n",
    "    colorsurfx=proj_z(x,y,z)\n",
    "    proj_y=lambda x, y, z: y\n",
    "    colorsurfy=proj_z(x,y,z)\n",
    "\n",
    "    textx=[['y: '+'{:0.5f}'.format(y[i][j])+'<br>z: '+'{:0.5f}'.format(z[i][j])+\n",
    "            '<br>x: '+'{:0.5f}'.format(x[i][j]) for j in range(z.shape[1])]  for i in range(z.shape[0])]\n",
    "    texty=[['x: '+'{:0.5f}'.format(x[i][j])+'<br>z: '+'{:0.5f}'.format(z[i][j]) +\n",
    "            '<br>y: '+'{:0.5f}'.format(y[i][j]) for j in range(z.shape[1])] for i in range(z.shape[0])]\n",
    "\n",
    "    tracex = go.Surface(z=z,\n",
    "                    x=x_offset,\n",
    "                    y=y,\n",
    "                    colorscale=colorscale,\n",
    "                    showlegend=False,\n",
    "                    showscale=False,\n",
    "                    surfacecolor=colorsurfx,\n",
    "                    text=textx,\n",
    "                    hoverinfo='text'\n",
    "                )\n",
    "    tracey = go.Surface(z=z,\n",
    "                    x=x,\n",
    "                    y=y_offset,\n",
    "                    colorscale=colorscale,\n",
    "                    showlegend=False,\n",
    "                    showscale=False,\n",
    "                    surfacecolor=colorsurfy,\n",
    "                    text=texty,\n",
    "                    hoverinfo='text'\n",
    "                )\n",
    "    tracez = go.Surface(z=z_offset,\n",
    "                    x=x,\n",
    "                    y=y,\n",
    "                    colorscale=colorscale,\n",
    "                    showlegend=False,\n",
    "                    showscale=False,\n",
    "                    surfacecolor=colorsurfx,\n",
    "                    text=textz,\n",
    "                    hoverinfo='text'\n",
    "                )\n",
    "\n",
    "    data=[trace1, tracex, tracey, tracez]\n",
    "    fig = go.Figure(data=data, layout=layout)\n",
    "    py.iplot(fig)\n",
    "    return"
   ]
  },
  {
   "cell_type": "code",
   "execution_count": 10,
   "metadata": {},
   "outputs": [],
   "source": [
    "# Shouldn't really be needed\n",
    "\n",
    "def normalize(x):\n",
    "    return x/np.amax(np.absolute(x))"
   ]
  },
  {
   "cell_type": "code",
   "execution_count": 11,
   "metadata": {},
   "outputs": [],
   "source": [
    "def intensity(x):\n",
    "    # This is taking the hypotenuse of the intensity vectors\n",
    "    assert type(x).__module__ == np.__name__\n",
    "    return np.power(np.sum(np.power(x,2),axis=len(x.shape)-1),0.5) # pythagorean"
   ]
  },
  {
   "cell_type": "code",
   "execution_count": 14,
   "metadata": {},
   "outputs": [],
   "source": [
    "A = importMatrix('sample_16')"
   ]
  },
  {
   "cell_type": "code",
   "execution_count": 41,
   "metadata": {},
   "outputs": [],
   "source": [
    "A_U = unumpy.matrix(A[:,:,0])"
   ]
  },
  {
   "cell_type": "code",
   "execution_count": 42,
   "metadata": {},
   "outputs": [],
   "source": [
    "ARR = np.array(unumpy.nominal_values(A_U))"
   ]
  },
  {
   "cell_type": "code",
   "execution_count": 54,
   "metadata": {},
   "outputs": [],
   "source": [
    "ARR = normalize(ARR)"
   ]
  },
  {
   "cell_type": "code",
   "execution_count": 55,
   "metadata": {},
   "outputs": [],
   "source": [
    "printArr(ARR, axis=0)"
   ]
  },
  {
   "cell_type": "code",
   "execution_count": null,
   "metadata": {},
   "outputs": [],
   "source": []
  }
 ],
 "metadata": {
  "kernelspec": {
   "display_name": "Python 3",
   "language": "python",
   "name": "python3"
  },
  "language_info": {
   "codemirror_mode": {
    "name": "ipython",
    "version": 3
   },
   "file_extension": ".py",
   "mimetype": "text/x-python",
   "name": "python",
   "nbconvert_exporter": "python",
   "pygments_lexer": "ipython3",
   "version": "3.7.0"
  }
 },
 "nbformat": 4,
 "nbformat_minor": 2
}
