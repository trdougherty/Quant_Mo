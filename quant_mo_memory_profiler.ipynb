{
 "cells": [
  {
   "cell_type": "code",
   "execution_count": 1,
   "metadata": {},
   "outputs": [],
   "source": [
    "%load_ext line_profiler"
   ]
  },
  {
   "cell_type": "code",
   "execution_count": 9,
   "metadata": {},
   "outputs": [],
   "source": [
    "from __future__ import print_function\n",
    "import time\n",
    "import numpy as np\n",
    "import argparse\n",
    "import io\n",
    "import sys\n",
    "import datetime\n",
    "import ucert\n",
    "import os"
   ]
  },
  {
   "cell_type": "code",
   "execution_count": 27,
   "metadata": {},
   "outputs": [],
   "source": [
    "diff = False\n",
    "infiles = \"/Users/TRD/Research_Personal/Quant_Mo/videos/sample_16/\"\n",
    "output = \"/Users/TRD/Research_Personal/Quant_Mo/sample_16_mem\"\n"
   ]
  },
  {
   "cell_type": "code",
   "execution_count": 28,
   "metadata": {},
   "outputs": [],
   "source": [
    "os.listdir(infiles);"
   ]
  },
  {
   "cell_type": "code",
   "execution_count": 29,
   "metadata": {},
   "outputs": [],
   "source": [
    "def process(file):\n",
    "    try:\n",
    "        numObj = np.load(file)\n",
    "        [date, arr] = numObj\n",
    "        return [date, arr]\n",
    "    except EOFError:\n",
    "        return []"
   ]
  },
  {
   "cell_type": "code",
   "execution_count": 30,
   "metadata": {},
   "outputs": [],
   "source": [
    "def sizeof_fmt(num, suffix='B'):\n",
    "    # Took this from online to read how much RAM this is using\n",
    "    for unit in ['', 'Ki', 'Mi', 'Gi', 'Ti', 'Pi', 'Ei', 'Zi']:\n",
    "        if abs(num) < 1024.0:\n",
    "            return \"%3.1f%s%s\" % (num, unit, suffix)\n",
    "        num /= 1024.0\n",
    "    return \"%.1f%s%s\" % (num, 'Yi', suffix)"
   ]
  },
  {
   "cell_type": "code",
   "execution_count": 31,
   "metadata": {},
   "outputs": [],
   "source": [
    "def absoluteFilePaths(directory):\n",
    "    filenames = os.listdir(directory)\n",
    "    return [ directory+i for i in filenames if '.npy' in i ]"
   ]
  },
  {
   "cell_type": "code",
   "execution_count": 32,
   "metadata": {},
   "outputs": [],
   "source": [
    "def saveArr(x):\n",
    "    # Test to verify we're passing in the correct motion vectors\n",
    "    assert x.shape[2] == 2\n",
    "    t = datetime.datetime.now().timestamp()\n",
    "    arrayStorage = np.array([t, x.copy()], dtype=object)\n",
    "    # print('Saving an array of size: {}'.format(sizeof_fmt(sys.getsizeof(arrayStorage))))\n",
    "    np.save(output, arrayStorage)"
   ]
  },
  {
   "cell_type": "code",
   "execution_count": 33,
   "metadata": {},
   "outputs": [],
   "source": [
    "def saveTxt(u_array):\n",
    "    with open(output+'.txt','w+') as outfile:\n",
    "        for i in u_array:\n",
    "            np.savetxt(outfile, i, fmt='%r')"
   ]
  },
  {
   "cell_type": "code",
   "execution_count": 34,
   "metadata": {},
   "outputs": [],
   "source": [
    "def reshapeHelp(arr):\n",
    "    # This function converts the array into an added dimension to support concatenation later\n",
    "    assert type(arr).__module__ == np.__name__\n",
    "    lis = list(arr.shape)\n",
    "    lis.insert(0, 1)\n",
    "    return np.reshape(arr, tuple(lis))"
   ]
  },
  {
   "cell_type": "code",
   "execution_count": 35,
   "metadata": {},
   "outputs": [
    {
     "name": "stdout",
     "output_type": "stream",
     "text": [
      "Num of files:\t65\n"
     ]
    }
   ],
   "source": [
    "diff = False\n",
    "files = absoluteFilePaths(infiles)\n",
    "assert files != None # To validate that we don't have a null array\n",
    "print(\"Num of files:\\t{}\".format(len(files)))\n",
    "dates = []\n",
    "tempArr = np.array([], dtype=int)"
   ]
  },
  {
   "cell_type": "code",
   "execution_count": 39,
   "metadata": {},
   "outputs": [
    {
     "name": "stdout",
     "output_type": "stream",
     "text": [
      "Num of files:\t65\n",
      "Output is:\t/Users/TRD/Research_Personal/Quant_Mo/sample_16_mem\n"
     ]
    }
   ],
   "source": [
    "diff = False\n",
    "files = absoluteFilePaths(infiles)\n",
    "assert files != None # To validate that we don't have a null array\n",
    "print(\"Num of files:\\t{}\".format(len(files)))\n",
    "dates = []\n",
    "print(\"Output is:\\t{}\".format(output))"
   ]
  },
  {
   "cell_type": "code",
   "execution_count": 42,
   "metadata": {},
   "outputs": [],
   "source": [
    "def reshapeSave(file_s):\n",
    "    tempArr = np.array([], dtype=int)\n",
    "    if diff:\n",
    "        # This will need to be modified in the future\n",
    "        assert len(file_s) >= 2\n",
    "        [a_date, a_arr] = np.load(files[0])\n",
    "        [b_date, b_arr] = np.load(files[1])\n",
    "        u_array = b_arr - a_arr\n",
    "    else:\n",
    "        for i in file_s:\n",
    "            temp = process(i)\n",
    "            if temp:\n",
    "                [temp_date, arr] = temp\n",
    "                dates.append(temp_date)\n",
    "                if sys.getsizeof(tempArr) == 96:\n",
    "                    tempArr = reshapeHelp(arr)\n",
    "                else:\n",
    "                    tempIn = reshapeHelp(arr)\n",
    "                    tempArr = np.concatenate((tempArr, tempIn), axis=0)\n",
    "\n",
    "                #print('Shape of the array is: {}'.format(tempArr.shape))\n",
    "                #print('Size of the array is: {}\\n'.format(sizeof_fmt(sys.getsizeof(tempArr))))\n",
    "\n",
    "        u_array = np.average(tempArr, axis=0)\n",
    "\n",
    "    print('Size of the final average: {}\\n'.format(sizeof_fmt(sys.getsizeof(u_array))))\n",
    "    print(u_array.shape)\n",
    "\n",
    "    saveTxt(u_array)"
   ]
  },
  {
   "cell_type": "code",
   "execution_count": 46,
   "metadata": {},
   "outputs": [
    {
     "name": "stdout",
     "output_type": "stream",
     "text": [
      "Size of the final average: 64.1KiB\n",
      "\n",
      "(64, 64, 2)\n"
     ]
    }
   ],
   "source": [
    "%lprun -f saveTxt reshapeSave(files)"
   ]
  },
  {
   "cell_type": "code",
   "execution_count": null,
   "metadata": {},
   "outputs": [],
   "source": []
  }
 ],
 "metadata": {
  "kernelspec": {
   "display_name": "Python 3",
   "language": "python",
   "name": "python3"
  },
  "language_info": {
   "codemirror_mode": {
    "name": "ipython",
    "version": 3
   },
   "file_extension": ".py",
   "mimetype": "text/x-python",
   "name": "python",
   "nbconvert_exporter": "python",
   "pygments_lexer": "ipython3",
   "version": "3.5.2"
  }
 },
 "nbformat": 4,
 "nbformat_minor": 2
}
