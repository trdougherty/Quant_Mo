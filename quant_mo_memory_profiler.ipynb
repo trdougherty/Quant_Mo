{
 "cells": [
  {
   "cell_type": "code",
   "execution_count": 2,
   "metadata": {},
   "outputs": [
    {
     "name": "stdout",
     "output_type": "stream",
     "text": [
      "The line_profiler extension is already loaded. To reload it, use:\n",
      "  %reload_ext line_profiler\n"
     ]
    }
   ],
   "source": [
    "%load_ext line_profiler"
   ]
  },
  {
   "cell_type": "code",
   "execution_count": 14,
   "metadata": {},
   "outputs": [],
   "source": [
    "from __future__ import print_function\n",
    "import time\n",
    "import numpy as np\n",
    "import argparse\n",
    "import io\n",
    "import sys\n",
    "import datetime\n",
    "import ucert\n",
    "import os"
   ]
  },
  {
   "cell_type": "code",
   "execution_count": 2,
   "metadata": {},
   "outputs": [],
   "source": [
    "diff = False\n",
    "infiles = \"/Users/TRD/Research_Personal/Quant_Mo/videos/sample_16/\"\n",
    "output = \"/Users/TRD/Research_Personal/Quant_Mo/sample_16_mem\"\n"
   ]
  },
  {
   "cell_type": "code",
   "execution_count": 18,
   "metadata": {},
   "outputs": [
    {
     "data": {
      "text/plain": [
       "['aw_motion!4@2018-08-16.12:39:22.npy',\n",
       " 'aw_motion!4@2018-08-16.15:45:38.npy',\n",
       " 'aw_motion!4@2018-08-16.15:05:18.npy',\n",
       " 'aw_motion!4@2018-08-16.14:40:42.npy',\n",
       " 'aw_motion!4@2018-08-16.13:24:07.npy',\n",
       " 'aw_motion!4@2018-08-16.12:51:38.npy',\n",
       " 'aw_motion!4@2018-08-16.12:35:19.npy',\n",
       " 'aw_motion!4@2018-08-16.12:16:05.npy',\n",
       " 'aw_motion!4@2018-08-16.15:33:34.npy',\n",
       " 'aw_motion!4@2018-08-16.12:08:10.npy',\n",
       " 'aw_motion!4@2018-08-16.13:36:16.npy',\n",
       " 'aw_motion!4@2018-08-16.12:16:04.npy',\n",
       " 'aw_motion!4@2018-08-16.13:12:03.npy',\n",
       " 'aw_motion!4@2018-08-16.15:17:20.npy',\n",
       " 'aw_motion!4@2018-08-16.13:03:44.npy',\n",
       " 'aw_motion!4@2018-08-16.13:15:52.npy',\n",
       " 'aw_motion!4@2018-08-16.14:48:53.npy',\n",
       " 'aw_motion!4@2018-08-16.15:29:34.npy',\n",
       " 'aw_motion!4@2018-08-16.12:59:38.npy',\n",
       " 'aw_motion!4@2018-08-16.13:20:03.npy',\n",
       " 'aw_motion!4@2018-08-16.14:44:46.npy',\n",
       " 'aw_motion!4@2018-08-16.14:57:06.npy',\n",
       " 'aw_motion!4@2018-08-16.12:31:27.npy',\n",
       " 'aw_motion!4@2018-08-16.15:25:23.npy',\n",
       " 'aw_motion!4@2018-08-16.13:44:25.npy',\n",
       " 'aw_motion!4@2018-08-16.13:48:31.npy',\n",
       " 'aw_motion!4@2018-08-16.14:28:39.npy',\n",
       " 'aw_motion!4@2018-08-16.13:56:24.npy',\n",
       " 'aw_motion!4@2018-08-16.15:37:31.npy',\n",
       " 'aw_motion!4@2018-08-16.12:07:10.npy',\n",
       " 'aw_motion!4@2018-08-16.12:23:39.npy',\n",
       " 'aw_motion!4@2018-08-16.12:47:30.npy',\n",
       " 'aw_motion!4@2018-08-16.14:08:47.npy',\n",
       " 'aw_motion!4@2018-08-16.14:20:52.npy',\n",
       " 'aw_motion!4@2018-08-16.12:04:42.npy',\n",
       " 'aw_motion!4@2018-08-16.14:00:20.npy',\n",
       " 'aw_motion!4@2018-08-16.13:07:59.npy',\n",
       " 'aw_motion!4@2018-08-16.14:16:50.npy',\n",
       " 'aw_motion!4@2018-08-16.15:41:27.npy',\n",
       " 'aw_motion!4@2018-08-16.12:12:37.npy',\n",
       " 'aw_motion!4@2018-08-16.13:32:19.npy',\n",
       " 'aw_motion!4@2018-08-16.12:17:06.npy',\n",
       " 'aw_motion!4@2018-08-16.14:32:42.npy',\n",
       " 'aw_motion!4@2018-08-16.15:01:11.npy',\n",
       " 'aw_motion!4@2018-08-16.15:53:31.npy',\n",
       " 'aw_motion!4@2018-08-16.15:13:11.npy',\n",
       " 'aw_motion!4@2018-08-16.12:17:11.npy',\n",
       " 'aw_motion!4@2018-08-16.14:04:31.npy',\n",
       " 'aw_motion!4@2018-08-16.13:52:39.npy',\n",
       " 'aw_motion!4@2018-08-16.12:27:16.npy',\n",
       " 'aw_motion!4@2018-08-16.13:28:18.npy',\n",
       " 'aw_motion!4@2018-08-16.12:01:13.npy',\n",
       " 'aw_motion!4@2018-08-16.14:53:08.npy',\n",
       " 'aw_motion!4@2018-08-16.13:40:06.npy',\n",
       " 'aw_motion!4@2018-08-16.15:57:24.npy',\n",
       " 'aw_motion!4@2018-08-16.12:43:21.npy',\n",
       " 'aw_motion!4@2018-08-16.15:21:29.npy',\n",
       " 'aw_motion!4@2018-08-16.14:12:47.npy',\n",
       " 'aw_motion!4@2018-08-16.15:09:14.npy',\n",
       " 'aw_motion!4@2018-08-16.12:11:38.npy',\n",
       " 'aw_motion!4@2018-08-16.12:55:40.npy',\n",
       " 'aw_motion!4@2018-08-16.12:03:38.npy',\n",
       " 'aw_motion!4@2018-08-16.15:49:36.npy',\n",
       " 'aw_motion!4@2018-08-16.14:36:50.npy',\n",
       " 'aw_motion!4@2018-08-16.14:24:44.npy']"
      ]
     },
     "execution_count": 18,
     "metadata": {},
     "output_type": "execute_result"
    }
   ],
   "source": [
    "os.listdir(infiles)"
   ]
  },
  {
   "cell_type": "code",
   "execution_count": 3,
   "metadata": {},
   "outputs": [],
   "source": [
    "def process(file):\n",
    "    try:\n",
    "        numObj = np.load(file)\n",
    "        [date, arr] = numObj\n",
    "        return [date, arr]\n",
    "    except EOFError:\n",
    "        return []"
   ]
  },
  {
   "cell_type": "code",
   "execution_count": 4,
   "metadata": {},
   "outputs": [],
   "source": [
    "def sizeof_fmt(num, suffix='B'):\n",
    "    # Took this from online to read how much RAM this is using\n",
    "    for unit in ['', 'Ki', 'Mi', 'Gi', 'Ti', 'Pi', 'Ei', 'Zi']:\n",
    "        if abs(num) < 1024.0:\n",
    "            return \"%3.1f%s%s\" % (num, unit, suffix)\n",
    "        num /= 1024.0\n",
    "    return \"%.1f%s%s\" % (num, 'Yi', suffix)"
   ]
  },
  {
   "cell_type": "code",
   "execution_count": 11,
   "metadata": {},
   "outputs": [],
   "source": [
    "def absoluteFilePaths(directory):\n",
    "    filenames = os.listdir(directory)\n",
    "    return [directory+i for i in filenames if '.npy' in i ]"
   ]
  },
  {
   "cell_type": "code",
   "execution_count": 6,
   "metadata": {},
   "outputs": [],
   "source": [
    "def saveArr(x):\n",
    "    # Test to verify we're passing in the correct motion vectors\n",
    "    assert x.shape[2] == 2\n",
    "    t = datetime.datetime.now().timestamp()\n",
    "    arrayStorage = np.array([t, x.copy()], dtype=object)\n",
    "    # print('Saving an array of size: {}'.format(sizeof_fmt(sys.getsizeof(arrayStorage))))\n",
    "    np.save(output, arrayStorage)"
   ]
  },
  {
   "cell_type": "code",
   "execution_count": 7,
   "metadata": {},
   "outputs": [],
   "source": [
    "def saveTxt(u_array):\n",
    "    with open(output+'.txt','w+') as outfile:\n",
    "        for i in u_array:\n",
    "            np.savetxt(outfile, i, fmt='%r')"
   ]
  },
  {
   "cell_type": "code",
   "execution_count": 8,
   "metadata": {},
   "outputs": [],
   "source": [
    "def reshapeHelp(arr):\n",
    "    # This function converts the array into an added dimension to support concatenation later\n",
    "    assert type(arr).__module__ == np.__name__\n",
    "    lis = list(arr.shape)\n",
    "    lis.insert(0, 1)\n",
    "    return np.reshape(arr, tuple(lis))"
   ]
  },
  {
   "cell_type": "code",
   "execution_count": 12,
   "metadata": {},
   "outputs": [
    {
     "ename": "NameError",
     "evalue": "name 'os' is not defined",
     "output_type": "error",
     "traceback": [
      "\u001b[0;31m---------------------------------------------------------------------------\u001b[0m",
      "\u001b[0;31mNameError\u001b[0m                                 Traceback (most recent call last)",
      "\u001b[0;32m<ipython-input-12-4029cc0c72f7>\u001b[0m in \u001b[0;36m<module>\u001b[0;34m()\u001b[0m\n\u001b[1;32m      1\u001b[0m \u001b[0mdiff\u001b[0m \u001b[0;34m=\u001b[0m \u001b[0;32mFalse\u001b[0m\u001b[0;34m\u001b[0m\u001b[0m\n\u001b[0;32m----> 2\u001b[0;31m \u001b[0mfiles\u001b[0m \u001b[0;34m=\u001b[0m \u001b[0mabsoluteFilePaths\u001b[0m\u001b[0;34m(\u001b[0m\u001b[0minfiles\u001b[0m\u001b[0;34m)\u001b[0m\u001b[0;34m\u001b[0m\u001b[0m\n\u001b[0m\u001b[1;32m      3\u001b[0m \u001b[0;32massert\u001b[0m \u001b[0mfiles\u001b[0m \u001b[0;34m!=\u001b[0m \u001b[0;32mNone\u001b[0m \u001b[0;31m# To validate that we don't have a null array\u001b[0m\u001b[0;34m\u001b[0m\u001b[0m\n\u001b[1;32m      4\u001b[0m \u001b[0mprint\u001b[0m\u001b[0;34m(\u001b[0m\u001b[0;34m\"Num of files:\\t{}\"\u001b[0m\u001b[0;34m.\u001b[0m\u001b[0mformat\u001b[0m\u001b[0;34m(\u001b[0m\u001b[0mlen\u001b[0m\u001b[0;34m(\u001b[0m\u001b[0mfiles\u001b[0m\u001b[0;34m)\u001b[0m\u001b[0;34m)\u001b[0m\u001b[0;34m)\u001b[0m\u001b[0;34m\u001b[0m\u001b[0m\n\u001b[1;32m      5\u001b[0m \u001b[0mdates\u001b[0m \u001b[0;34m=\u001b[0m \u001b[0;34m[\u001b[0m\u001b[0;34m]\u001b[0m\u001b[0;34m\u001b[0m\u001b[0m\n",
      "\u001b[0;32m<ipython-input-11-eb6a5a7a8314>\u001b[0m in \u001b[0;36mabsoluteFilePaths\u001b[0;34m(directory)\u001b[0m\n\u001b[1;32m      1\u001b[0m \u001b[0;32mdef\u001b[0m \u001b[0mabsoluteFilePaths\u001b[0m\u001b[0;34m(\u001b[0m\u001b[0mdirectory\u001b[0m\u001b[0;34m)\u001b[0m\u001b[0;34m:\u001b[0m\u001b[0;34m\u001b[0m\u001b[0m\n\u001b[0;32m----> 2\u001b[0;31m     \u001b[0mfilenames\u001b[0m \u001b[0;34m=\u001b[0m \u001b[0mos\u001b[0m\u001b[0;34m.\u001b[0m\u001b[0mlistdir\u001b[0m\u001b[0;34m(\u001b[0m\u001b[0mdirectory\u001b[0m\u001b[0;34m)\u001b[0m\u001b[0;34m\u001b[0m\u001b[0m\n\u001b[0m\u001b[1;32m      3\u001b[0m     \u001b[0;32mreturn\u001b[0m \u001b[0;34m[\u001b[0m\u001b[0mdirectory\u001b[0m\u001b[0;34m+\u001b[0m\u001b[0mi\u001b[0m \u001b[0;32mfor\u001b[0m \u001b[0mi\u001b[0m \u001b[0;32min\u001b[0m \u001b[0mfilenames\u001b[0m \u001b[0;32mif\u001b[0m \u001b[0;34m'.npy'\u001b[0m \u001b[0;32min\u001b[0m \u001b[0mi\u001b[0m \u001b[0;34m]\u001b[0m\u001b[0;34m\u001b[0m\u001b[0m\n",
      "\u001b[0;31mNameError\u001b[0m: name 'os' is not defined"
     ]
    }
   ],
   "source": [
    "diff = False\n",
    "files = absoluteFilePaths(infiles)\n",
    "assert files != None # To validate that we don't have a null array\n",
    "print(\"Num of files:\\t{}\".format(len(files)))\n",
    "dates = []\n",
    "tempArr = np.array([], dtype=int)"
   ]
  },
  {
   "cell_type": "code",
   "execution_count": null,
   "metadata": {},
   "outputs": [],
   "source": [
    "def combine(files):\n",
    "    if diff:\n",
    "        # This will need to be modified in the future\n",
    "        assert len(files) >= 2\n",
    "        [a_date, a_arr] = np.load(files[0])\n",
    "        [b_date, b_arr] = np.load(files[1])\n",
    "        u_array = b_arr - a_arr\n",
    "    else:\n",
    "        for i in files:\n",
    "            temp = process(i)\n",
    "            if temp:\n",
    "                [temp_date, arr] = temp\n",
    "                dates.append(temp_date)\n",
    "                if sys.getsizeof(tempArr) == 96:\n",
    "                    tempArr = reshapeHelp(arr)\n",
    "                else:\n",
    "                    tempIn = reshapeHelp(arr)\n",
    "                    tempArr = np.concatenate((tempArr, tempIn), axis=0)\n",
    "    A = np.mean(tempArr, axis=0)\n",
    "    return A"
   ]
  },
  {
   "cell_type": "code",
   "execution_count": 20,
   "metadata": {},
   "outputs": [
    {
     "name": "stdout",
     "output_type": "stream",
     "text": [
      "Num of files:\t65\n",
      "Output is:\t/Users/TRD/Research_Personal/Quant_Mo/sample_16_mem\n",
      "Size of the final average: 64.1KiB\n",
      "\n",
      "(64, 64, 2)\n"
     ]
    }
   ],
   "source": [
    "diff = False\n",
    "files = absoluteFilePaths(infiles)\n",
    "assert files != None # To validate that we don't have a null array\n",
    "print(\"Num of files:\\t{}\".format(len(files)))\n",
    "dates = []\n",
    "tempArr = np.array([], dtype=int)\n",
    "\n",
    "print(\"Output is:\\t{}\".format(output))\n",
    "\n",
    "if diff:\n",
    "    # This will need to be modified in the future\n",
    "    assert len(files) >= 2\n",
    "    [a_date, a_arr] = np.load(files[0])\n",
    "    [b_date, b_arr] = np.load(files[1])\n",
    "    u_array = b_arr - a_arr\n",
    "else:\n",
    "    for i in files:\n",
    "        temp = process(i)\n",
    "        if temp:\n",
    "            [temp_date, arr] = temp\n",
    "            dates.append(temp_date)\n",
    "            if sys.getsizeof(tempArr) == 96:\n",
    "                tempArr = reshapeHelp(arr)\n",
    "            else:\n",
    "                tempIn = reshapeHelp(arr)\n",
    "                tempArr = np.concatenate((tempArr, tempIn), axis=0)\n",
    "\n",
    "            #print('Shape of the array is: {}'.format(tempArr.shape))\n",
    "            #print('Size of the array is: {}\\n'.format(sizeof_fmt(sys.getsizeof(tempArr))))\n",
    "\n",
    "    u_array = np.mean(tempArr, axis=0)\n",
    "\n",
    "print('Size of the final average: {}\\n'.format(sizeof_fmt(sys.getsizeof(u_array))))\n",
    "print(u_array.shape)\n",
    "\n",
    "saveTxt(u_array)"
   ]
  },
  {
   "cell_type": "code",
   "execution_count": null,
   "metadata": {},
   "outputs": [],
   "source": []
  }
 ],
 "metadata": {
  "kernelspec": {
   "display_name": "Python 3",
   "language": "python",
   "name": "python3"
  },
  "language_info": {
   "codemirror_mode": {
    "name": "ipython",
    "version": 3
   },
   "file_extension": ".py",
   "mimetype": "text/x-python",
   "name": "python",
   "nbconvert_exporter": "python",
   "pygments_lexer": "ipython3",
   "version": "3.5.2"
  }
 },
 "nbformat": 4,
 "nbformat_minor": 2
}
