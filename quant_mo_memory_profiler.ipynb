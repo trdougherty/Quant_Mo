{
 "cells": [
  {
   "cell_type": "code",
   "execution_count": 2,
   "metadata": {},
   "outputs": [
    {
     "name": "stdout",
     "output_type": "stream",
     "text": [
      "The line_profiler extension is already loaded. To reload it, use:\n",
      "  %reload_ext line_profiler\n"
     ]
    }
   ],
   "source": [
    "%load_ext line_profiler"
   ]
  },
  {
   "cell_type": "code",
   "execution_count": 1,
   "metadata": {},
   "outputs": [],
   "source": [
    "from __future__ import print_function\n",
    "import time\n",
    "import numpy as np\n",
    "import argparse\n",
    "import io\n",
    "import sys\n",
    "import datetime\n",
    "import ucert\n",
    "import os"
   ]
  },
  {
   "cell_type": "code",
   "execution_count": 16,
   "metadata": {},
   "outputs": [],
   "source": [
    "diff = False\n",
    "infiles = \"/Users/TRD/Research_Personal/Quant_Mo/videos/sample_16/\"\n",
    "output = \"/Users/TRD/Research_Personal/Quant_Mo/sample_16_mem\"\n"
   ]
  },
  {
   "cell_type": "code",
   "execution_count": 11,
   "metadata": {},
   "outputs": [],
   "source": [
    "def process(file):\n",
    "    try:\n",
    "        numObj = np.load(file)\n",
    "        [date, arr] = numObj\n",
    "        return [date, arr]\n",
    "    except EOFError:\n",
    "        return []"
   ]
  },
  {
   "cell_type": "code",
   "execution_count": 3,
   "metadata": {},
   "outputs": [],
   "source": [
    "def sizeof_fmt(num, suffix='B'):\n",
    "    # Took this from online to read how much RAM this is using\n",
    "    for unit in ['', 'Ki', 'Mi', 'Gi', 'Ti', 'Pi', 'Ei', 'Zi']:\n",
    "        if abs(num) < 1024.0:\n",
    "            return \"%3.1f%s%s\" % (num, unit, suffix)\n",
    "        num /= 1024.0\n",
    "    return \"%.1f%s%s\" % (num, 'Yi', suffix)"
   ]
  },
  {
   "cell_type": "code",
   "execution_count": 4,
   "metadata": {},
   "outputs": [],
   "source": [
    "def absoluteFilePaths(directory):\n",
    "    filenames = os.listdir(directory)\n",
    "    return [directory+i for i in filenames if '.npy' in i ]"
   ]
  },
  {
   "cell_type": "code",
   "execution_count": 5,
   "metadata": {},
   "outputs": [],
   "source": [
    "def saveArr(x):\n",
    "    # Test to verify we're passing in the correct motion vectors\n",
    "    assert x.shape[2] == 2\n",
    "    t = datetime.datetime.now().timestamp()\n",
    "    arrayStorage = np.array([t, x.copy()], dtype=object)\n",
    "    # print('Saving an array of size: {}'.format(sizeof_fmt(sys.getsizeof(arrayStorage))))\n",
    "    np.save(output, arrayStorage)"
   ]
  },
  {
   "cell_type": "code",
   "execution_count": 18,
   "metadata": {},
   "outputs": [],
   "source": [
    "def saveTxt(u_array):\n",
    "    with open(output+'.txt','w+') as outfile:\n",
    "        for i in u_array:\n",
    "            np.savetxt(outfile, i, fmt='%r')"
   ]
  },
  {
   "cell_type": "code",
   "execution_count": 7,
   "metadata": {},
   "outputs": [],
   "source": [
    "def reshapeHelp(arr):\n",
    "    # This function converts the array into an added dimension to support concatenation later\n",
    "    assert type(arr).__module__ == np.__name__\n",
    "    lis = list(arr.shape)\n",
    "    lis.insert(0, 1)\n",
    "    return np.reshape(arr, tuple(lis))"
   ]
  },
  {
   "cell_type": "code",
   "execution_count": 4,
   "metadata": {},
   "outputs": [
    {
     "ename": "NameError",
     "evalue": "name 'absoluteFilePaths' is not defined",
     "output_type": "error",
     "traceback": [
      "\u001b[0;31m---------------------------------------------------------------------------\u001b[0m",
      "\u001b[0;31mNameError\u001b[0m                                 Traceback (most recent call last)",
      "\u001b[0;32m<ipython-input-4-4029cc0c72f7>\u001b[0m in \u001b[0;36m<module>\u001b[0;34m()\u001b[0m\n\u001b[1;32m      1\u001b[0m \u001b[0mdiff\u001b[0m \u001b[0;34m=\u001b[0m \u001b[0;32mFalse\u001b[0m\u001b[0;34m\u001b[0m\u001b[0m\n\u001b[0;32m----> 2\u001b[0;31m \u001b[0mfiles\u001b[0m \u001b[0;34m=\u001b[0m \u001b[0mabsoluteFilePaths\u001b[0m\u001b[0;34m(\u001b[0m\u001b[0minfiles\u001b[0m\u001b[0;34m)\u001b[0m\u001b[0;34m\u001b[0m\u001b[0m\n\u001b[0m\u001b[1;32m      3\u001b[0m \u001b[0;32massert\u001b[0m \u001b[0mfiles\u001b[0m \u001b[0;34m!=\u001b[0m \u001b[0;32mNone\u001b[0m \u001b[0;31m# To validate that we don't have a null array\u001b[0m\u001b[0;34m\u001b[0m\u001b[0m\n\u001b[1;32m      4\u001b[0m \u001b[0mprint\u001b[0m\u001b[0;34m(\u001b[0m\u001b[0;34m\"Num of files:\\t{}\"\u001b[0m\u001b[0;34m.\u001b[0m\u001b[0mformat\u001b[0m\u001b[0;34m(\u001b[0m\u001b[0mlen\u001b[0m\u001b[0;34m(\u001b[0m\u001b[0mfiles\u001b[0m\u001b[0;34m)\u001b[0m\u001b[0;34m)\u001b[0m\u001b[0;34m)\u001b[0m\u001b[0;34m\u001b[0m\u001b[0m\n\u001b[1;32m      5\u001b[0m \u001b[0mdates\u001b[0m \u001b[0;34m=\u001b[0m \u001b[0;34m[\u001b[0m\u001b[0;34m]\u001b[0m\u001b[0;34m\u001b[0m\u001b[0m\n",
      "\u001b[0;31mNameError\u001b[0m: name 'absoluteFilePaths' is not defined"
     ]
    }
   ],
   "source": [
    "diff = False\n",
    "files = absoluteFilePaths(infiles)\n",
    "assert files != None # To validate that we don't have a null array\n",
    "print(\"Num of files:\\t{}\".format(len(files)))\n",
    "dates = []\n",
    "tempArr = np.array([], dtype=int)"
   ]
  },
  {
   "cell_type": "code",
   "execution_count": 3,
   "metadata": {},
   "outputs": [],
   "source": [
    "def combine(files):\n",
    "    if diff:\n",
    "        # This will need to be modified in the future\n",
    "        assert len(files) >= 2\n",
    "        [a_date, a_arr] = np.load(files[0])\n",
    "        [b_date, b_arr] = np.load(files[1])\n",
    "        u_array = b_arr - a_arr\n",
    "    else:\n",
    "        for i in files:\n",
    "            temp = process(i)\n",
    "            if temp:\n",
    "                [temp_date, arr] = temp\n",
    "                dates.append(temp_date)\n",
    "                if sys.getsizeof(tempArr) == 96:\n",
    "                    tempArr = reshapeHelp(arr)\n",
    "                else:\n",
    "                    tempIn = reshapeHelp(arr)\n",
    "                    tempArr = np.concatenate((tempArr, tempIn), axis=0)\n",
    "    A = np.mean(tempArr, axis=0)\n",
    "    return A"
   ]
  },
  {
   "cell_type": "code",
   "execution_count": 20,
   "metadata": {},
   "outputs": [
    {
     "name": "stdout",
     "output_type": "stream",
     "text": [
      "Num of files:\t65\n",
      "Output is:\t/Users/TRD/Research_Personal/Quant_Mo/sample_16_mem\n",
      "Size of the final average: 64.1KiB\n",
      "\n",
      "(64, 64, 2)\n"
     ]
    }
   ],
   "source": [
    "diff = False\n",
    "files = absoluteFilePaths(infiles)\n",
    "assert files != None # To validate that we don't have a null array\n",
    "print(\"Num of files:\\t{}\".format(len(files)))\n",
    "dates = []\n",
    "tempArr = np.array([], dtype=int)\n",
    "\n",
    "print(\"Output is:\\t{}\".format(output))\n",
    "\n",
    "if diff:\n",
    "    # This will need to be modified in the future\n",
    "    assert len(files) >= 2\n",
    "    [a_date, a_arr] = np.load(files[0])\n",
    "    [b_date, b_arr] = np.load(files[1])\n",
    "    u_array = b_arr - a_arr\n",
    "else:\n",
    "    for i in files:\n",
    "        temp = process(i)\n",
    "        if temp:\n",
    "            [temp_date, arr] = temp\n",
    "            dates.append(temp_date)\n",
    "            if sys.getsizeof(tempArr) == 96:\n",
    "                tempArr = reshapeHelp(arr)\n",
    "            else:\n",
    "                tempIn = reshapeHelp(arr)\n",
    "                tempArr = np.concatenate((tempArr, tempIn), axis=0)\n",
    "\n",
    "            #print('Shape of the array is: {}'.format(tempArr.shape))\n",
    "            #print('Size of the array is: {}\\n'.format(sizeof_fmt(sys.getsizeof(tempArr))))\n",
    "\n",
    "    u_array = np.mean(tempArr, axis=0)\n",
    "\n",
    "print('Size of the final average: {}\\n'.format(sizeof_fmt(sys.getsizeof(u_array))))\n",
    "print(u_array.shape)\n",
    "\n",
    "saveTxt(u_array)"
   ]
  },
  {
   "cell_type": "code",
   "execution_count": null,
   "metadata": {},
   "outputs": [],
   "source": []
  }
 ],
 "metadata": {
  "kernelspec": {
   "display_name": "Python 3",
   "language": "python",
   "name": "python3"
  },
  "language_info": {
   "codemirror_mode": {
    "name": "ipython",
    "version": 3
   },
   "file_extension": ".py",
   "mimetype": "text/x-python",
   "name": "python",
   "nbconvert_exporter": "python",
   "pygments_lexer": "ipython3",
   "version": "3.5.2"
  }
 },
 "nbformat": 4,
 "nbformat_minor": 2
}
